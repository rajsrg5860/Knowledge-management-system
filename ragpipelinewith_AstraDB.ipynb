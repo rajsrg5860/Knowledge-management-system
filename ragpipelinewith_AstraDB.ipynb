{
 "cells": [
  {
   "cell_type": "code",
   "execution_count": 8,
   "id": "eb5577e0-7ea6-4bde-99f8-7ac9b7e4d5b5",
   "metadata": {},
   "outputs": [],
   "source": [
    "import os\n",
    "from langchain_groq import ChatGroq\n",
    "from langchain_community.document_loaders import WebBaseLoader\n",
    "from langchain_community.embeddings import OllamaEmbeddings\n",
    "\n",
    "from langchain.vectorstores.cassandra import Cassandra\n",
    "import cassio\n",
    "from dotenv import load_dotenv\n",
    "load_dotenv()\n",
    "from sentence_transformers import SentenceTransformer"
   ]
  },
  {
   "cell_type": "code",
   "execution_count": 9,
   "id": "05aa8d58-9724-49a8-b34d-430c83a61de2",
   "metadata": {},
   "outputs": [],
   "source": [
    "groq_api_key=os.environ['GROQ_API_KEY']\n",
    "\n",
    "## connection of the ASTRA DB\n",
    "ASTRA_DB_APPLICATION_TOKEN=\"AstraCS:mCvoKdLGapjJkCwAqMdrDyrW:cbaa287e58a235a57a1f5ae356d0f5b2c3fccf4fdd\" # enter the \"AstraCS:...\" string found in in your Token JSON file\"\n",
    "ASTRA_DB_ID=\"c06fb4ed-0c34-43c5db4f851c\"\n",
    "cassio.init(token=ASTRA_DB_APPLICATION_TOKEN,database_id=ASTRA_DB_ID)"
   ]
  },
  {
   "cell_type": "code",
   "execution_count": 12,
   "id": "7e1b4e88-4d55-42fb-bbb4-d8bc8686bfae",
   "metadata": {},
   "outputs": [
    {
     "name": "stdout",
     "output_type": "stream",
     "text": [
      "Number of chunks created: 27\n",
      "--- Chunk 1 ---\n",
      "CNN values your feedback\n",
      "Market Movers\n",
      "                  \n",
      "What to Watch\n",
      "In Case You Missed It\n",
      "More from Video\n",
      "Success\n",
      "Tech\n",
      "Media\n",
      "Underscored Money\n",
      "Markets \n",
      "\n",
      "\n",
      "\n",
      "Hot Stocks \n",
      "\n",
      "\n",
      "\n",
      "Fear & Greed Index \n",
      "\n",
      "\n",
      "\n",
      "\n",
      "            Latest Market News \n",
      "\n",
      "\n",
      "\n",
      "\n",
      "            Hot Stocks\n",
      "\n",
      "--- Chunk 2 ---\n",
      "Quote Search\n",
      "Most stock quote data provided by BATS. US market indices are shown in real time, except for the S&P 500 which is refreshed every two minutes. All times are ET. Factset: FactSet Research Systems Inc. All rights reserved. Chicago Mercantile: Certain market data is the property of Chicago Mercantile Exchange Inc. and its licensors. All rights reserved. Dow Jones: The Dow Jones branded indices are proprietary to and are calculated, distributed and marketed by DJI Opco, a subsidiary of \n",
      "\n",
      "--- Chunk 3 ---\n",
      "© 2024 Cable News Network. A Warner Bros. Discovery Company. All Rights Reserved.  CNN Sans ™ & © 2016 Cable News Network.\n",
      "\n",
      "--- Chunk 4 ---\n",
      "1. How relevant is this ad to you?\n",
      "                                                \n",
      "\n",
      "\n",
      "\n",
      "\n",
      "\n",
      "\n",
      "\n",
      "\n",
      "\n",
      "\n",
      "\n",
      "\n",
      "\n",
      "\n",
      "\n",
      "\n",
      "\n",
      "\n",
      "\n",
      "\n",
      "\n",
      "\n",
      "\n",
      "\n",
      "\n",
      "\n",
      "\n",
      "\n",
      "\n",
      "\n",
      "                                                2. Did you encounter any technical issues?\n",
      "                                        \n",
      "\n",
      "\n",
      "\n",
      "\n",
      "\n",
      "\n",
      "\n",
      "\n",
      "\n",
      "\n",
      "                                                                        Video player was slow to load content\n",
      "                                                                        \n",
      "\n",
      "\n",
      "\n",
      "                                                          \n",
      "\n",
      "--- Chunk 5 ---\n",
      "Ad froze or did not finish loading\n",
      "                                                                        \n",
      "\n",
      "\n",
      "\n",
      "                                                                        Video content did not start after ad\n",
      "                                                                        \n",
      "\n",
      "\n",
      "\n",
      "                                                                        Audio on ad was too loud\n",
      "                                                                        \n",
      "\n",
      "\n",
      "\n",
      "                               \n",
      "\n"
     ]
    }
   ],
   "source": [
    "\n",
    "import requests\n",
    "from bs4 import BeautifulSoup\n",
    "from langchain.text_splitter import RecursiveCharacterTextSplitter\n",
    "\n",
    "# Define a simple document class if not provided by LangChain\n",
    "#class Document:\n",
    " #   def __init__(self, text):\n",
    "  #      self.page_content = text\n",
    "#        self.metadata = {}\n",
    "\n",
    "\n",
    "class Document:\n",
    "    def __init__(self, text, vector=None):\n",
    "        self.page_content = text\n",
    "        self.metadata = {}\n",
    "        self.vector = vector  # Add vector attribute\n",
    "\n",
    "\n",
    "\n",
    "\n",
    "def fetch_and_parse_url(url):\n",
    "    try:\n",
    "        response = requests.get(url)\n",
    "        response.raise_for_status()  # Will raise an HTTPError for bad responses\n",
    "        soup = BeautifulSoup(response.text, 'html.parser')\n",
    "        \n",
    "        \n",
    "        paragraphs = [p.get_text() for p in soup.find_all('p')]\n",
    "        headers = [h.get_text() for h in soup.find_all(['h1', 'h2', 'h3'])]\n",
    "        # Additional extraction for other potential content areas\n",
    "        divs = [div.get_text() for div in soup.find_all('div', class_=lambda x: x and 'content' in x)]\n",
    "        \n",
    "        \n",
    "        full_text = \"\\n\".join(headers + paragraphs + divs)\n",
    "        return full_text\n",
    "    \n",
    "    except requests.RequestException as e:\n",
    "        print(f\"Error fetching data from {url}: {e}\")\n",
    "        return \"\"\n",
    "\n",
    "\n",
    "url = \"https://edition.cnn.com/business\"\n",
    "full_text = fetch_and_parse_url(url)\n",
    "\n",
    "\n",
    "documents = [Document(full_text)]\n",
    "\n",
    "\n",
    "text_splitter = RecursiveCharacterTextSplitter(chunk_size=1000, chunk_overlap=200)\n",
    "docs = text_splitter.split_documents(documents)  # Pass list of Document objects\n",
    "\n",
    "\n",
    "print(\"no of chunks created:\", len(docs))\n",
    "for i, doc in enumerate(docs[:5]):  # Print the first 5 chunks\n",
    "    print(f\"--- Chunk {i+1} ---\")\n",
    "    print(doc.page_content[:500])  # Print first 500 characters of each chunk for preview\n",
    "    print()"
   ]
  },
  {
   "cell_type": "code",
   "execution_count": 4,
   "id": "352f502f-7032-43ad-b320-5670b0ca640e",
   "metadata": {},
   "outputs": [
    {
     "name": "stdout",
     "output_type": "stream",
     "text": [
      "Embedding dimension: 384\n"
     ]
    }
   ],
   "source": [
    "\"\"\"def embed_text(chunks, model_name='all-MiniLM-L6-v2'):\n",
    "    # Load Sentence Transformer model\n",
    "    model = SentenceTransformer(model_name)\n",
    "    embeddings = model.encode(chunks, convert_to_tensor=False)  # Convert to list directly\n",
    "    return embeddings\n",
    "\n",
    "\n",
    "# Generate embeddings\n",
    "embeddings = embed_text(chunks)\n",
    "print(f\"Embedding dimension: {len(embeddings[0])}\")\"\"\"\n"
   ]
  },
  {
   "cell_type": "code",
   "execution_count": 16,
   "id": "625ec9a2-7b9c-445a-bbc0-3259c5bccf39",
   "metadata": {},
   "outputs": [
    {
     "name": "stdout",
     "output_type": "stream",
     "text": [
      "base_url='http://localhost:11434' model='llama2' embed_instruction='passage: ' query_instruction='query: ' mirostat=None mirostat_eta=None mirostat_tau=None num_ctx=None num_gpu=None num_thread=None repeat_last_n=None repeat_penalty=None temperature=None stop=None tfs_z=None top_k=None top_p=None show_progress=False headers=None model_kwargs=None\n"
     ]
    }
   ],
   "source": [
    "embeddings=OllamaEmbeddings()\n",
    "astra_vector_store=Cassandra(\n",
    "    embedding=embeddings,\n",
    "    table_name=\"cnntable\",\n",
    "    session=None,\n",
    "    keyspace=None\n",
    "\n",
    ")\n",
    "print(embeddings)"
   ]
  },
  {
   "cell_type": "code",
   "execution_count": 17,
   "id": "af961df7-d843-44b9-910b-c8b209b0942a",
   "metadata": {},
   "outputs": [
    {
     "name": "stdout",
     "output_type": "stream",
     "text": [
      "Inserted 27 headlines.\n"
     ]
    }
   ],
   "source": [
    "from langchain.indexes.vectorstore import VectorStoreIndexWrapper\n",
    "astra_vector_store.add_documents(docs)\n",
    "print(\"Inserted %i headlines.\" % len(docs))\n",
    "\n",
    "astra_vector_index = VectorStoreIndexWrapper(vectorstore=astra_vector_store)"
   ]
  },
  {
   "cell_type": "code",
   "execution_count": 18,
   "id": "7116d017-cc0a-4356-88e2-a4c9879c8640",
   "metadata": {
    "scrolled": true
   },
   "outputs": [],
   "source": [
    "llm=ChatGroq(groq_api_key=groq_api_key,\n",
    "         model_name=\"mixtral-8x7b-32768\")\n",
    "\n",
    "from langchain_core.prompts import ChatPromptTemplate\n",
    "prompt = ChatPromptTemplate.from_template(\"\"\"\n",
    "Answer the following question based only on the provided context. \n",
    "Elon Musk is going all-in on Donald Trump. \n",
    "<context>\n",
    "{context}\n",
    "</context>\n",
    "\n",
    "Question: {input}\"\"\")"
   ]
  },
  {
   "cell_type": "code",
   "execution_count": 22,
   "id": "c45b474c-5b86-49bd-856f-aa842ce8245f",
   "metadata": {},
   "outputs": [
    {
     "data": {
      "text/plain": [
       "'Based on the provided context, I cannot directly answer the question about SCOTUS One making cutting greenhouse emissions a major business selling point. However, it mentions that SCOTUS One has made a significant impact on the political landscape. It would be best to look up the latest news and decisions related to SCOTUS One to get a better understanding of their impact on businesses and greenhouse emissions.'"
      ]
     },
     "execution_count": 22,
     "metadata": {},
     "output_type": "execute_result"
    }
   ],
   "source": [
    "astra_vector_index.query(\"One has made cutting greenhouse emissions a major business selling point.\",llm=llm)"
   ]
  },
  {
   "cell_type": "code",
   "execution_count": 23,
   "id": "150a705c-bae3-4b05-80c4-c24b791d21e2",
   "metadata": {},
   "outputs": [],
   "source": [
    "from langchain.chains import create_retrieval_chain\n",
    "from langchain.chains.combine_documents import create_stuff_documents_chain\n",
    "\n",
    "retriever=astra_vector_store.as_retriever()\n",
    "document_chain=create_stuff_documents_chain(llm,prompt)\n",
    "retrieval_chain=create_retrieval_chain(retriever,document_chain)"
   ]
  },
  {
   "cell_type": "code",
   "execution_count": 25,
   "id": "dfdefbaf-d192-44e4-b82a-2ca5835d834c",
   "metadata": {},
   "outputs": [
    {
     "data": {
      "text/plain": [
       "{'input': 'One has made cutting greenhouse emissions a major business selling point.',\n",
       " 'context': [Document(page_content='KDKA\\n\\n\\n\\n\\n\\n\\n\\n\\n‘We’re screwed’: Stranded passenger frustrated at tech outage\\n1:47\\n\\n\\n\\n\\n\\n\\n\\n\\n\\n\\n\\n\\n\\n\\n\\n\\n•\\n          Video\\n        \\n3:37\\n\\n\\n\\nKent Nishimura/Getty Images/File\\n\\n\\n\\n\\n\\n\\n\\n\\nCyber outage disrupts globe. Expert explains how long it could take to fix\\n3:37\\n\\n\\n\\n\\n\\n\\n\\n\\n\\n\\n\\n\\n\\n\\n\\nSuccess\\n\\n\\n\\n\\n\\n\\n\\n\\n\\n\\n\\n\\n\\n\\n\\n\\n\\n\\nKirkikis/iStock Editorial/Getty Images/File\\n\\n\\n\\n\\n\\n\\n\\n\\nSteps you can take now to avoid college sticker shock\\n\\n\\n\\n\\n\\n\\n\\n\\n\\n\\n\\n\\n\\nFG Trade/E+/Getty Images\\n\\n\\n\\n\\n\\n\\n\\n\\nUnhappy workers may reduce global GDP by as much as 9%, Gallup estimates\\n\\n\\n\\n\\n\\n\\n\\n\\n\\n\\n\\n\\n\\ndamircudic/E+/Getty Images\\n\\n\\n\\n\\n\\n\\n\\n\\nFed decision buys more time for savers to profit from high interest rates\\n\\n\\n\\n\\n\\n\\n\\n\\n\\n\\n\\n\\n\\nshapecharge/E+/Getty Images\\n\\n\\n\\n\\n\\n\\n\\n\\nYou’ve retired. Can you get a mortgage — and should you?\\n\\n\\n\\n\\n\\n\\n\\n\\n\\n\\n\\n\\n\\n\\n\\n\\n\\nTech\\n\\n\\n\\n\\n\\n\\n\\n\\n\\n\\n\\n\\n\\n\\n\\n\\nMichael Reaves/Getty Images\\n\\n\\n\\n\\n\\n\\n\\n\\nNBC to use AI version of announcer Al Michaels’ voice for Olympics recaps\\n\\n\\n\\n\\n\\n\\n\\n\\n\\n\\n\\n\\n\\nMike Kai Chen/Bloomberg/Getty Images/File'),\n",
       "  Document(page_content='Call to Earth\\n          \\n\\n\\n\\n            Freedom Project\\n          \\n\\n\\n\\n            Impact Your World\\n          \\n\\n\\n\\n            Inside Africa\\n          \\n\\n\\n\\n            CNN Heroes\\n          \\n\\n\\n\\n\\n\\n        Weather\\n      \\n\\n\\n\\n            Video\\n          \\n\\n\\n\\n\\n\\n        Ukraine-Russia War\\n      \\n\\n\\n\\n\\n\\n        Israel-Hamas War\\n      \\n\\n\\n\\n\\n\\n        Paris Olympics\\n      \\n\\n\\n\\n\\n\\n        About CNN\\n      \\n\\n\\n\\n            Photos\\n          \\n\\n\\n\\n            Investigations\\n          \\n\\n\\n\\n            CNN Profiles\\n          \\n\\n\\n\\n            CNN Leadership\\n          \\n\\n\\n\\n            CNN Newsletters\\n          \\n\\n\\n\\n            Work for CNN\\n          \\n\\n\\n\\n\\n\\n\\n\\n\\n\\n\\n\\n\\n\\n\\n\\n\\nBusiness\\n\\n\\n\\n\\n\\n            Watch\\n          \\n\\n            Listen\\n          \\n\\n            Live TV\\n          \\n\\n\\nFollow CNN Business\\n\\n\\n\\n\\n\\n\\n\\n\\n\\n\\n\\n\\n\\n\\n\\n\\n\\n\\n\\n\\n\\n\\n\\n\\n\\n\\n\\n\\n\\n\\n\\n\\n\\n        Sign in\\n      \\n\\n\\n\\n      My Account\\n\\n\\n\\n\\n\\n          Settings\\n        \\n\\n\\n\\n          Topics You Follow\\n          \\n\\n\\n\\n\\n          Sign Out'),\n",
       "  Document(page_content=\"Other issues\\n                                                                        \\n\\n\\n\\n\\n\\n\\n\\n\\n\\n\\n                                                        Cancel\\n                                                \\n\\n                                                        Submit\\n                                                \\n\\n\\n\\n\\n \\n\\n\\n\\n\\n\\n \\n\\n\\n\\n\\n\\n\\nMarkets \\n\\n\\n\\n\\n\\n\\nDOW\\n\\n\\n\\n\\n\\nS&P 500\\n\\n\\n\\n\\n\\nNASDAQ\\n\\n\\n\\n\\n\\n\\n\\n\\nHot Stocks \\n\\n\\n\\n\\n\\n\\n\\n\\n\\n\\n\\n\\n\\n\\n\\n\\n\\n\\n\\nFear & Greed Index \\n\\n\\n\\n\\n\\n\\n\\n\\n\\n\\n\\n\\n\\n\\n\\n\\n\\n\\n\\n\\n\\n\\n\\n\\n\\n\\n\\n\\n\\n\\n\\n\\n\\n\\n\\n\\n\\n\\n\\n----- is driving the US market \\n        \\n\\n\\n\\n\\n\\n\\n\\n            Latest Market News \\n\\n\\n\\n\\n\\n\\n\\n\\n\\n\\n\\n\\n\\nNasdaq tracks for worst day since 2022 after Alphabet and Tesla fail to impress Wall Street\\n\\n\\n\\n\\n\\n\\n\\n\\nWe finally know what caused the global tech outage - and how much it cost\\n\\n\\n\\n\\n\\n\\n\\n\\nElon Musk is going all-in on Donald Trump\\n\\n\\n\\n\\n\\n\\n\\n\\n\\n\\n\\n            Hot Stocks \\n\\n\\n\\n\\n\\n\\n\\n\\n\\n\\n\\n\\n\\n\\n\\n\\n\\nSomething isn't loading properly. Please check back later.\"),\n",
       "  Document(page_content='Video\\nDelta volunteers help in the hunt for missing luggage after days of airport outages\\n1:02\\n\\n\\n\\n\\n\\n\\n\\n\\n\\nVideo\\nLouis Vuitton CEO bets on Roger, Rafa and the Olympics\\n4:41\\n\\n\\n\\n\\n\\n\\n\\n\\n\\nVideo\\nBehind the scenes at Paris 2024’s Eiffel Tower Stadium\\n5:21\\n\\n\\n\\n\\n\\n\\n\\n\\n\\n\\n\\n\\n\\n\\n\\n\\n\\n\\n\\n\\n\\n\\n\\n\\n\\n\\n\\n\\n\\n\\n\\n\\n\\n\\n\\n\\n\\n\\n\\n\\n\\n\\n\\n\\n\\n\\n\\n\\n\\n\\n\\n\\n\\n\\n\\n\\n\\n\\n\\n\\n\\n\\n\\n\\n\\n\\n        Sign in\\n      \\n\\n\\n\\n      My Account\\n\\n\\n\\n\\n\\n          Settings\\n        \\n\\n\\n\\n          Topics You Follow\\n          \\n\\n\\n\\n\\n          Sign Out\\n        \\n\\n\\n\\n\\nYour CNN account\\nSign in to your CNN account\\n\\n\\n\\n\\n\\n\\n        Live TV\\n      \\n\\n        Listen\\n      \\n\\n        Watch\\n      \\n\\n\\n\\n\\n\\n\\n        World\\n      \\n\\n\\n\\n            Africa\\n          \\n\\n\\n\\n            Americas\\n          \\n\\n\\n\\n            Asia\\n          \\n\\n\\n\\n            Australia\\n          \\n\\n\\n\\n            China\\n          \\n\\n\\n\\n            Europe\\n          \\n\\n\\n\\n            India\\n          \\n\\n\\n\\n            Middle East\\n          \\n\\n\\n\\n            United Kingdom\\n          \\n\\n\\n\\n\\n\\n        US Politics\\n      \\n\\n\\n\\n            SCOTUS')],\n",
       " 'answer': 'Based on the provided context, Elon Musk has made cutting greenhouse emissions a major business selling point. Musk is the CEO of Tesla, a company known for producing electric vehicles and clean energy solutions, both of which contribute to reducing greenhouse gas emissions.'}"
      ]
     },
     "execution_count": 25,
     "metadata": {},
     "output_type": "execute_result"
    }
   ],
   "source": [
    "response=retrieval_chain.invoke({\"input\":\"One has made cutting greenhouse emissions a major business selling point.\"})\n",
    "response"
   ]
  },
  {
   "cell_type": "code",
   "execution_count": 26,
   "id": "8cfad1e6-0a78-4dcd-ae2d-661ca72865f6",
   "metadata": {},
   "outputs": [
    {
     "data": {
      "text/plain": [
       "'Based on the provided context, Elon Musk has made cutting greenhouse emissions a major business selling point. Musk is the CEO of Tesla, a company known for producing electric vehicles and clean energy solutions, both of which contribute to reducing greenhouse gas emissions.'"
      ]
     },
     "execution_count": 26,
     "metadata": {},
     "output_type": "execute_result"
    }
   ],
   "source": [
    "response[\"answer\"]"
   ]
  }
 ],
 "metadata": {
  "kernelspec": {
   "display_name": "Python 3 (ipykernel)",
   "language": "python",
   "name": "python3"
  },
  "language_info": {
   "codemirror_mode": {
    "name": "ipython",
    "version": 3
   },
   "file_extension": ".py",
   "mimetype": "text/x-python",
   "name": "python",
   "nbconvert_exporter": "python",
   "pygments_lexer": "ipython3",
   "version": "3.9.13"
  }
 },
 "nbformat": 4,
 "nbformat_minor": 5
}
